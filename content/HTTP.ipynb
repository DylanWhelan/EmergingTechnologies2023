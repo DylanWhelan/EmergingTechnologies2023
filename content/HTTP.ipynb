{
 "cells": [
  {
   "cell_type": "markdown",
   "id": "d4ad059d",
   "metadata": {},
   "source": [
    "# HTTP"
   ]
  },
  {
   "cell_type": "markdown",
   "id": "d12a1bb5",
   "metadata": {},
   "source": [
    "### The HyperText Transfer Protocol\n",
    "HTTTP is an application layer protocol in the OSI model for networked communications. It is a stateless protocol for the transfer of information between a server and a client. In this context, being stateless means that each HTTP message contains any relevant information for a message and that the server does not need to keep track of communcations with the client. This ensures that the HTTP system is simpler to deal with it. However if it is desired a sort of state can be simulated in the form of session ids.\n",
    "#### Cookies\n",
    "These session ids can be stored in a client using cookies, and then when the client communicates with the server, they can communicate the session id stored within the cookie as a proof of ID, giving the server a means of keeping track of users without any deeper requirement for a stateful transfer protocol. Hence a website will often leave a session id cookie when a user logs into the site, and when the user logs out, the session id will be forgotten.\n",
    "#### What is a server\n",
    "A server is a program or process, which is responsible for controlling access to data and resources stored on the server or connected devices. All web-based services require servers to facilitate communication with client and handle requests. For example a server for an e-commerce website would handle communications with clients, sending them the webpage, keep track of the clients themselves by tracking purchases, and saving purchases to a database.\n",
    "#### HTTP Messages\n",
    "There are two types of HTTP messages, requests and response. There are several different types of HTTP request, the most commonly used are as follows: GET, POST, PUT and DELETE. <br>\n",
    "Below is an example of a http request:<br><br>\n",
    "> GET /EmergingTechnologies2023/lab/index.htm HTTP/1.1 <br>\n",
    "(GET being the METHOD of the request, /EmergingTechnologies2023/lab/index.html being the path requested, in this case relative and HTTP/1.1 being the version of protocol used for the request)<br>\n",
    "Host: https://dylanwhelan.github.io<br>\n",
    "(The Host: to which the request is being made) <br>\n",
    "Accept: text/html<br>\n",
    "(The content type, which the request is looking for)<br>\n",
    "- GET requests are requests for the server to send something back to client, in the above examplea html page.\n",
    "- POST request are requests to send some information to the server from the client, creating a new object as a child of the URL, meaning that multiple POST requests will lead to creating multiple objects at the URL\n",
    "- PUT requests are requests to send some information to the server from the client, like POST requests, however PUTS create an object at the URL, overwriting information that might already be at the URL, ensuring that there will only ever be one object.\n",
    "- DELETE requests are requests from the client to the server, to delete the object at the specified URL"
   ]
  },
  {
   "cell_type": "markdown",
   "id": "71a5095f",
   "metadata": {},
   "source": [
    "Requests are communications sent from the server to the client, one such example is below: <br>\n",
    "> HTTP/1.1 200 OK<br>\n",
    "(HTTP/1.1 as with the request earlier is the version of protocol used, 200 OK is the status code displaying that the request was successful) <br>\n",
    "Date: Mon, 27 Jul 2009 12:28:53 GMT<br>\n",
    "(The time at which the response was made) <br>\n",
    "Server: Apache/2.2.14 (Win32)<br>\n",
    "(Information about the server and software that made the response) <br>\n",
    "Last-Modified: Wed, 22 Jul 2009 19:15:56 GMT<br>\n",
    "(The last time the requested resource had been modified) <br>\n",
    "Content-Length: 88<br>\n",
    "(The amount of data in the response body, measured in bytes) <br>\n",
    "Content-Type: text/html<br>\n",
    "(The type of content being sent in the response, in this case a html file)\n",
    "Connection: Closed<br>\n",
    "(After the response is made, the connection between client and server are closed)"
   ]
  },
  {
   "cell_type": "code",
   "execution_count": null,
   "id": "be3b1cc1",
   "metadata": {},
   "outputs": [],
   "source": []
  }
 ],
 "metadata": {
  "kernelspec": {
   "display_name": "Python 3 (ipykernel)",
   "language": "python",
   "name": "python3"
  },
  "language_info": {
   "codemirror_mode": {
    "name": "ipython",
    "version": 3
   },
   "file_extension": ".py",
   "mimetype": "text/x-python",
   "name": "python",
   "nbconvert_exporter": "python",
   "pygments_lexer": "ipython3",
   "version": "3.9.7"
  }
 },
 "nbformat": 4,
 "nbformat_minor": 5
}
