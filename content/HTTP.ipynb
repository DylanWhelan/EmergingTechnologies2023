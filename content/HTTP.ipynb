{
 "cells": [
  {
   "cell_type": "markdown",
   "id": "d4ad059d",
   "metadata": {},
   "source": [
    "# HTTP"
   ]
  },
  {
   "cell_type": "markdown",
   "id": "d12a1bb5",
   "metadata": {},
   "source": [
    "### The HyperText Transfer Protocol\n",
    "HTTTP is an application layer protocol in the OSI model for networked communications. It is a stateless protocol for the transfer of information between a server and a client. In this context, being stateless means that each HTTP message contains any relevant information for a message and that the server does not need to keep track of communcations with the client. This ensures that the HTTP system is simpler to deal with it. However if it is desired a sort of state can be simulated in the form of session ids.\n",
    "#### Cookies\n",
    "These session ids can be stored in a client using cookies, and then when the client communicates with the server, they can communicate the session id stored within the cookie as a proof of ID, giving the server a means of keeping track of users without any deeper requirement for a stateful transfer protocol. Hence a website will often leave a session id cookie when a user logs into the site, and when the user logs out, the session id will be forgotten.\n",
    "#### What is a server\n",
    "A server is a program or process, which is responsible for controlling access to data and resources stored on the server or connected devices. For example a computer for an e-commerce website would handle communications with clients, sending them the webpage, keep track of the clients themselves by tracking purchases, and saving purchases to a database, "
   ]
  }
 ],
 "metadata": {
  "kernelspec": {
   "display_name": "Python 3 (ipykernel)",
   "language": "python",
   "name": "python3"
  },
  "language_info": {
   "codemirror_mode": {
    "name": "ipython",
    "version": 3
   },
   "file_extension": ".py",
   "mimetype": "text/x-python",
   "name": "python",
   "nbconvert_exporter": "python",
   "pygments_lexer": "ipython3",
   "version": "3.9.7"
  }
 },
 "nbformat": 4,
 "nbformat_minor": 5
}
